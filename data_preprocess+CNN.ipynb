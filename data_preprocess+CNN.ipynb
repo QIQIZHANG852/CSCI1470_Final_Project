{
 "cells": [
  {
   "cell_type": "code",
   "execution_count": null,
   "id": "38b7488d-42a3-4870-82e3-6303f636060e",
   "metadata": {},
   "outputs": [
    {
     "name": "stderr",
     "output_type": "stream",
     "text": [
      "C:\\Users\\crazycyt\\anaconda3\\envs\\scent_env\\lib\\site-packages\\torchvision\\models\\_utils.py:208: UserWarning: The parameter 'pretrained' is deprecated since 0.13 and may be removed in the future, please use 'weights' instead.\n",
      "  warnings.warn(\n",
      "C:\\Users\\crazycyt\\anaconda3\\envs\\scent_env\\lib\\site-packages\\torchvision\\models\\_utils.py:223: UserWarning: Arguments other than a weight enum or `None` for 'weights' are deprecated since 0.13 and may be removed in the future. The current behavior is equivalent to passing `weights=ResNet50_Weights.IMAGENET1K_V1`. You can also use `weights=ResNet50_Weights.DEFAULT` to get the most up-to-date weights.\n",
      "  warnings.warn(msg)\n",
      "Epoch 1/10 - Training: 100%|███████████████████████████████████████████████████████████| 67/67 [05:46<00:00,  5.18s/it]\n"
     ]
    },
    {
     "name": "stdout",
     "output_type": "stream",
     "text": [
      "[Epoch 1] Train Loss: 0.9076\n"
     ]
    },
    {
     "name": "stderr",
     "output_type": "stream",
     "text": [
      "Validation: 100%|██████████████████████████████████████████████████████████████████████| 17/17 [01:15<00:00,  4.42s/it]\n"
     ]
    },
    {
     "name": "stdout",
     "output_type": "stream",
     "text": [
      "[Epoch 1] Val Loss: 0.6279\n",
      "  Top-1 Acc: 0.6569 | Top-3 Acc: 0.8499 | Cos Sim: 0.8214\n",
      "  Mean Absolute Error: 0.0324\n",
      "  Binary Precision: 0.1945\n",
      "  Binary Recall: 0.2198\n"
     ]
    },
    {
     "name": "stderr",
     "output_type": "stream",
     "text": [
      "Epoch 2/10 - Training: 100%|███████████████████████████████████████████████████████████| 67/67 [04:46<00:00,  4.27s/it]\n"
     ]
    },
    {
     "name": "stdout",
     "output_type": "stream",
     "text": [
      "[Epoch 2] Train Loss: 0.5193\n"
     ]
    },
    {
     "name": "stderr",
     "output_type": "stream",
     "text": [
      "Validation: 100%|██████████████████████████████████████████████████████████████████████| 17/17 [01:04<00:00,  3.81s/it]\n"
     ]
    },
    {
     "name": "stdout",
     "output_type": "stream",
     "text": [
      "[Epoch 2] Val Loss: 0.6900\n",
      "  Top-1 Acc: 0.6550 | Top-3 Acc: 0.8640 | Cos Sim: 0.8105\n",
      "  Mean Absolute Error: 0.0309\n",
      "  Binary Precision: 0.2014\n",
      "  Binary Recall: 0.2086\n"
     ]
    },
    {
     "name": "stderr",
     "output_type": "stream",
     "text": [
      "Epoch 3/10 - Training: 100%|███████████████████████████████████████████████████████████| 67/67 [04:46<00:00,  4.28s/it]\n"
     ]
    },
    {
     "name": "stdout",
     "output_type": "stream",
     "text": [
      "[Epoch 3] Train Loss: 0.3847\n"
     ]
    },
    {
     "name": "stderr",
     "output_type": "stream",
     "text": [
      "Validation: 100%|██████████████████████████████████████████████████████████████████████| 17/17 [01:12<00:00,  4.29s/it]\n"
     ]
    },
    {
     "name": "stdout",
     "output_type": "stream",
     "text": [
      "[Epoch 3] Val Loss: 0.6166\n",
      "  Top-1 Acc: 0.6134 | Top-3 Acc: 0.8290 | Cos Sim: 0.8266\n",
      "  Mean Absolute Error: 0.0306\n",
      "  Binary Precision: 0.2020\n",
      "  Binary Recall: 0.2428\n"
     ]
    },
    {
     "name": "stderr",
     "output_type": "stream",
     "text": [
      "Epoch 4/10 - Training: 100%|███████████████████████████████████████████████████████████| 67/67 [04:53<00:00,  4.38s/it]\n"
     ]
    },
    {
     "name": "stdout",
     "output_type": "stream",
     "text": [
      "[Epoch 4] Train Loss: 0.3358\n"
     ]
    },
    {
     "name": "stderr",
     "output_type": "stream",
     "text": [
      "Validation: 100%|██████████████████████████████████████████████████████████████████████| 17/17 [01:17<00:00,  4.59s/it]\n"
     ]
    },
    {
     "name": "stdout",
     "output_type": "stream",
     "text": [
      "[Epoch 4] Val Loss: 0.6228\n",
      "  Top-1 Acc: 0.6072 | Top-3 Acc: 0.8272 | Cos Sim: 0.8270\n",
      "  Mean Absolute Error: 0.0318\n",
      "  Binary Precision: 0.2313\n",
      "  Binary Recall: 0.2716\n"
     ]
    },
    {
     "name": "stderr",
     "output_type": "stream",
     "text": [
      "Epoch 5/10 - Training: 100%|███████████████████████████████████████████████████████████| 67/67 [04:55<00:00,  4.41s/it]\n"
     ]
    },
    {
     "name": "stdout",
     "output_type": "stream",
     "text": [
      "[Epoch 5] Train Loss: 0.2757\n"
     ]
    },
    {
     "name": "stderr",
     "output_type": "stream",
     "text": [
      "Validation: 100%|██████████████████████████████████████████████████████████████████████| 17/17 [01:12<00:00,  4.28s/it]\n"
     ]
    },
    {
     "name": "stdout",
     "output_type": "stream",
     "text": [
      "[Epoch 5] Val Loss: 0.6233\n",
      "  Top-1 Acc: 0.6477 | Top-3 Acc: 0.8658 | Cos Sim: 0.8241\n",
      "  Mean Absolute Error: 0.0303\n",
      "  Binary Precision: 0.2475\n",
      "  Binary Recall: 0.2544\n"
     ]
    },
    {
     "name": "stderr",
     "output_type": "stream",
     "text": [
      "Epoch 6/10 - Training: 100%|███████████████████████████████████████████████████████████| 67/67 [05:09<00:00,  4.63s/it]\n"
     ]
    },
    {
     "name": "stdout",
     "output_type": "stream",
     "text": [
      "[Epoch 6] Train Loss: 0.2433\n"
     ]
    },
    {
     "name": "stderr",
     "output_type": "stream",
     "text": [
      "Validation: 100%|██████████████████████████████████████████████████████████████████████| 17/17 [01:14<00:00,  4.38s/it]\n"
     ]
    },
    {
     "name": "stdout",
     "output_type": "stream",
     "text": [
      "[Epoch 6] Val Loss: 0.5952\n",
      "  Top-1 Acc: 0.6477 | Top-3 Acc: 0.8462 | Cos Sim: 0.8326\n",
      "  Mean Absolute Error: 0.0285\n",
      "  Binary Precision: 0.2442\n",
      "  Binary Recall: 0.2453\n"
     ]
    },
    {
     "name": "stderr",
     "output_type": "stream",
     "text": [
      "Epoch 7/10 - Training: 100%|███████████████████████████████████████████████████████████| 67/67 [04:56<00:00,  4.43s/it]\n"
     ]
    },
    {
     "name": "stdout",
     "output_type": "stream",
     "text": [
      "[Epoch 7] Train Loss: 0.2091\n"
     ]
    },
    {
     "name": "stderr",
     "output_type": "stream",
     "text": [
      "Validation: 100%|██████████████████████████████████████████████████████████████████████| 17/17 [00:55<00:00,  3.28s/it]\n"
     ]
    },
    {
     "name": "stdout",
     "output_type": "stream",
     "text": [
      "[Epoch 7] Val Loss: 0.5752\n",
      "  Top-1 Acc: 0.6569 | Top-3 Acc: 0.8511 | Cos Sim: 0.8346\n",
      "  Mean Absolute Error: 0.0284\n",
      "  Binary Precision: 0.2508\n",
      "  Binary Recall: 0.2668\n"
     ]
    },
    {
     "name": "stderr",
     "output_type": "stream",
     "text": [
      "Epoch 8/10 - Training: 100%|███████████████████████████████████████████████████████████| 67/67 [02:16<00:00,  2.04s/it]\n"
     ]
    },
    {
     "name": "stdout",
     "output_type": "stream",
     "text": [
      "[Epoch 8] Train Loss: 0.1979\n"
     ]
    },
    {
     "name": "stderr",
     "output_type": "stream",
     "text": [
      "Validation: 100%|██████████████████████████████████████████████████████████████████████| 17/17 [00:35<00:00,  2.11s/it]\n"
     ]
    },
    {
     "name": "stdout",
     "output_type": "stream",
     "text": [
      "[Epoch 8] Val Loss: 0.6035\n",
      "  Top-1 Acc: 0.6385 | Top-3 Acc: 0.8701 | Cos Sim: 0.8305\n",
      "  Mean Absolute Error: 0.0288\n",
      "  Binary Precision: 0.2453\n",
      "  Binary Recall: 0.2730\n"
     ]
    },
    {
     "name": "stderr",
     "output_type": "stream",
     "text": [
      "Epoch 9/10 - Training: 100%|███████████████████████████████████████████████████████████| 67/67 [02:17<00:00,  2.06s/it]\n"
     ]
    },
    {
     "name": "stdout",
     "output_type": "stream",
     "text": [
      "[Epoch 9] Train Loss: 0.1808\n"
     ]
    },
    {
     "name": "stderr",
     "output_type": "stream",
     "text": [
      "Validation: 100%|██████████████████████████████████████████████████████████████████████| 17/17 [00:35<00:00,  2.09s/it]\n"
     ]
    },
    {
     "name": "stdout",
     "output_type": "stream",
     "text": [
      "[Epoch 9] Val Loss: 0.6255\n",
      "  Top-1 Acc: 0.6550 | Top-3 Acc: 0.8634 | Cos Sim: 0.8293\n",
      "  Mean Absolute Error: 0.0283\n",
      "  Binary Precision: 0.2402\n",
      "  Binary Recall: 0.2457\n"
     ]
    },
    {
     "name": "stderr",
     "output_type": "stream",
     "text": [
      "Epoch 10/10 - Training: 100%|██████████████████████████████████████████████████████████| 67/67 [02:13<00:00,  1.99s/it]\n"
     ]
    },
    {
     "name": "stdout",
     "output_type": "stream",
     "text": [
      "[Epoch 10] Train Loss: 0.1632\n"
     ]
    },
    {
     "name": "stderr",
     "output_type": "stream",
     "text": [
      "Validation: 100%|██████████████████████████████████████████████████████████████████████| 17/17 [00:36<00:00,  2.17s/it]"
     ]
    },
    {
     "name": "stdout",
     "output_type": "stream",
     "text": [
      "[Epoch 10] Val Loss: 0.5937\n",
      "  Top-1 Acc: 0.6415 | Top-3 Acc: 0.8511 | Cos Sim: 0.8290\n",
      "  Mean Absolute Error: 0.0296\n",
      "  Binary Precision: 0.2757\n",
      "  Binary Recall: 0.2913\n"
     ]
    },
    {
     "name": "stderr",
     "output_type": "stream",
     "text": [
      "\n"
     ]
    }
   ],
   "source": [
    "import json\n",
    "from pathlib import Path\n",
    "from PIL import Image\n",
    "from tqdm import tqdm\n",
    "\n",
    "import torch\n",
    "import torch.nn as nn\n",
    "import torch.nn.functional as F\n",
    "import torch.optim as optim\n",
    "from torch.utils.data import Dataset, DataLoader, random_split\n",
    "from torchvision import transforms, models\n",
    "\n",
    "class ScentDataset(Dataset):\n",
    "    def __init__(self, image_folder: str, json_file: str, transform=None, labels=None):\n",
    "        self.image_folder = Path(image_folder)\n",
    "        with open(json_file, \"r\", encoding=\"utf-8\") as f:\n",
    "            self.data = json.load(f)\n",
    "        self.image_names = list(self.data.keys())\n",
    "        self.transform = transform\n",
    "        self.labels = labels or [\n",
    "            \"muddy\", \"earthy\", \"woody\", \"grassy\", \"floral\",\n",
    "            \"rotten\", \"bloody\", \"musty\", \"sulfuric\", \"burnt\",\n",
    "            \"chemical\", \"metallic\", \"clean\", \"oily\", \"dusty\",\n",
    "            \"damp\", \"smoky\", \"salty\", \"sweet\", \"arcane\", \"no_scent\"\n",
    "        ]\n",
    "\n",
    "    def __len__(self):\n",
    "        return len(self.image_names)\n",
    "\n",
    "    def __getitem__(self, idx):\n",
    "        image_name = self.image_names[idx]\n",
    "        image_path = self.image_folder / image_name\n",
    "        image = Image.open(image_path).convert(\"RGB\")\n",
    "        if self.transform:\n",
    "            image = self.transform(image)\n",
    "        scent_data = self.data[image_name].get(\"scent_distribution\", {})\n",
    "        scent_vector = torch.tensor([scent_data.get(label, 0.0) for label in self.labels], dtype=torch.float32)\n",
    "        if scent_vector.sum() > 0:\n",
    "            scent_vector /= scent_vector.sum()\n",
    "        return image, scent_vector\n",
    "\n",
    "class ScentPredictor(nn.Module):\n",
    "    def __init__(self, num_labels=21):\n",
    "        super(ScentPredictor, self).__init__()\n",
    "        self.base_model = models.resnet50(pretrained=True)\n",
    "        self.base_model.fc = nn.Sequential(\n",
    "            nn.Linear(self.base_model.fc.in_features, 256),\n",
    "            nn.ReLU(),\n",
    "            nn.Dropout(0.3),\n",
    "            nn.Linear(256, num_labels),\n",
    "            nn.Softmax(dim=1)\n",
    "        )\n",
    "    def forward(self, x):\n",
    "        return self.base_model(x)\n",
    "\n",
    "def top_k_accuracy(output, target, k=1):\n",
    "    topk = torch.topk(output, k=k, dim=1).indices\n",
    "    target_top = torch.topk(target, k=1, dim=1).indices.squeeze(1)\n",
    "    correct = (topk == target_top.unsqueeze(1)).any(dim=1)\n",
    "    return correct.float().mean().item()\n",
    "\n",
    "def cosine_similarity(output, target):\n",
    "    sim = F.cosine_similarity(output, target, dim=1)\n",
    "    return sim.mean().item()\n",
    "\n",
    "def mean_absolute_error(output, target):\n",
    "    return torch.abs(output - target).mean().item()\n",
    "\n",
    "def binary_precision_recall(output, target, threshold=0.05):\n",
    "    pred_binary = (output > threshold).float()\n",
    "    target_binary = (target > threshold).float()\n",
    "    true_positives = (pred_binary * target_binary).sum(dim=0)\n",
    "    precision = true_positives / (pred_binary.sum(dim=0) + 1e-9)\n",
    "    recall = true_positives / (target_binary.sum(dim=0) + 1e-9)\n",
    "    return precision.mean().item(), recall.mean().item()\n",
    "image_folder_path = r\"C:\\Users\\crazycyt\\Desktop\\1470\\filtered_dataset\"\n",
    "json_file_path = \"scent_labels_with_captions.json\"\n",
    "\n",
    "transform = transforms.Compose([\n",
    "    transforms.Resize((224, 224)),\n",
    "    transforms.ToTensor(),\n",
    "    transforms.Normalize(mean=[0.485, 0.456, 0.406],\n",
    "                         std=[0.229, 0.224, 0.225]),\n",
    "])\n",
    "\n",
    "dataset = ScentDataset(image_folder=image_folder_path, json_file=json_file_path, transform=transform)\n",
    "train_size = int(0.8 * len(dataset))\n",
    "val_size = len(dataset) - train_size\n",
    "train_dataset, val_dataset = random_split(dataset, [train_size, val_size])\n",
    "\n",
    "train_loader = DataLoader(train_dataset, batch_size=32, shuffle=True)\n",
    "val_loader = DataLoader(val_dataset, batch_size=32, shuffle=False)\n",
    "\n",
    "device = torch.device(\"cuda\" if torch.cuda.is_available() else \"cpu\")\n",
    "model = ScentPredictor(num_labels=21).to(device)\n",
    "criterion = nn.KLDivLoss(reduction=\"batchmean\")\n",
    "optimizer = optim.Adam(model.parameters(), lr=1e-4)\n",
    "num_epochs = 10\n",
    "\n",
    "for epoch in range(num_epochs):\n",
    "    model.train()\n",
    "    train_loss = 0.0\n",
    "    for images, targets in tqdm(train_loader, desc=f\"Epoch {epoch+1}/{num_epochs} - Training\"):\n",
    "        images, targets = images.to(device), targets.to(device)\n",
    "        outputs = model(images)\n",
    "        log_outputs = torch.log(outputs + 1e-9)\n",
    "        loss = criterion(log_outputs, targets)\n",
    "        optimizer.zero_grad()\n",
    "        loss.backward()\n",
    "        optimizer.step()\n",
    "        train_loss += loss.item()\n",
    "    print(f\"[Epoch {epoch+1}] Train Loss: {train_loss / len(train_loader):.4f}\")\n",
    "\n",
    "    model.eval()\n",
    "    val_loss, top1, top3, cos_sim, mae, precision, recall = 0.0, 0.0, 0.0, 0.0, 0.0, 0.0, 0.0\n",
    "    with torch.no_grad():\n",
    "        for images, targets in tqdm(val_loader, desc=\"Validation\"):\n",
    "            images, targets = images.to(device), targets.to(device)\n",
    "            outputs = model(images)\n",
    "            log_outputs = torch.log(outputs + 1e-9)\n",
    "            loss = criterion(log_outputs, targets)\n",
    "            val_loss += loss.item()\n",
    "            top1 += top_k_accuracy(outputs, targets, k=1)\n",
    "            top3 += top_k_accuracy(outputs, targets, k=3)\n",
    "            cos_sim += cosine_similarity(outputs, targets)\n",
    "            mae += mean_absolute_error(outputs, targets)\n",
    "            p, r = binary_precision_recall(outputs, targets)\n",
    "            precision += p\n",
    "            recall += r\n",
    "\n",
    "    batches = len(val_loader)\n",
    "    print(f\"[Epoch {epoch+1}] Val Loss: {val_loss / batches:.4f}\")\n",
    "    print(f\"  Top-1 Acc: {top1 / batches:.4f} | Top-3 Acc: {top3 / batches:.4f} | Cos Sim: {cos_sim / batches:.4f}\")\n",
    "    print(f\"  Mean Absolute Error: {mae / batches:.4f}\")\n",
    "    print(f\"  Binary Precision: {precision / batches:.4f}\")\n",
    "    print(f\"  Binary Recall: {recall / batches:.4f}\")\n"
   ]
  },
  {
   "cell_type": "code",
   "execution_count": null,
   "id": "329c27ba-5852-4ca6-a384-c43279429f2a",
   "metadata": {},
   "outputs": [],
   "source": []
  }
 ],
 "metadata": {
  "kernelspec": {
   "display_name": "Python [conda env:scent_env]",
   "language": "python",
   "name": "conda-env-scent_env-py"
  },
  "language_info": {
   "codemirror_mode": {
    "name": "ipython",
    "version": 3
   },
   "file_extension": ".py",
   "mimetype": "text/x-python",
   "name": "python",
   "nbconvert_exporter": "python",
   "pygments_lexer": "ipython3",
   "version": "3.9.21"
  }
 },
 "nbformat": 4,
 "nbformat_minor": 5
}
